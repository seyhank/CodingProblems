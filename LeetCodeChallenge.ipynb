{
 "cells": [
  {
   "cell_type": "markdown",
   "metadata": {},
   "source": [
    "# Leetcode Challenge"
   ]
  },
  {
   "cell_type": "markdown",
   "metadata": {},
   "source": [
    "## Single Number"
   ]
  },
  {
   "cell_type": "markdown",
   "metadata": {},
   "source": [
    "Given a non-empty array of integers, every element appears twice except for one. Find that single one.\n"
   ]
  },
  {
   "cell_type": "code",
   "execution_count": 11,
   "metadata": {},
   "outputs": [],
   "source": [
    "class Solution(object):\n",
    "    def singleNumber(self, nums):\n",
    "        \"\"\"\n",
    "        :type nums: List[int]\n",
    "        :rtype: int\n",
    "        \"\"\"\n",
    "        rem = 0\n",
    "        \n",
    "        for i in range(0,len(nums)):\n",
    "            rem ^= nums[i]\n",
    "    \n",
    "        \n",
    "        return rem"
   ]
  },
  {
   "cell_type": "markdown",
   "metadata": {},
   "source": [
    "## Happy Number\n",
    "\n",
    "Write an algorithm to determine if a number n is \"happy\".\n"
   ]
  },
  {
   "cell_type": "code",
   "execution_count": 1,
   "metadata": {},
   "outputs": [],
   "source": [
    "class Solution(object):\n",
    "    \n",
    "    def convertToDigits(self, x):\n",
    "        digits_list =[]\n",
    "        while(x!=0):\n",
    "            digits_list.append(x%10)\n",
    "            x //=10\n",
    "        return digits_list\n",
    "    \n",
    "    def isHappy(self, n):\n",
    "        \"\"\"\n",
    "        :type n: int\n",
    "        :rtype: bool\n",
    "        \"\"\"\n",
    "        seen = set()\n",
    "        while(n!=1 and n not in seen):\n",
    "            seen.add(n)\n",
    "            squaresum=0\n",
    "            digitsList = self.convertToDigits(n)\n",
    "            for i in range(len(digitsList)):\n",
    "                squaresum +=digitsList[i]**2\n",
    "            n=squaresum\n",
    "       \n",
    "        return n==1"
   ]
  },
  {
   "cell_type": "markdown",
   "metadata": {},
   "source": [
    "## Maximum Subarray"
   ]
  },
  {
   "cell_type": "markdown",
   "metadata": {},
   "source": [
    "Given an integer array nums, find the contiguous subarray (containing at least one number) which has the largest sum and return its sum."
   ]
  },
  {
   "cell_type": "code",
   "execution_count": 2,
   "metadata": {},
   "outputs": [],
   "source": [
    "class Solution:\n",
    "    def cross_sum(self, nums, left, right, p): \n",
    "            if left == right:\n",
    "                return nums[left]\n",
    "\n",
    "            left_subsum = float('-inf')\n",
    "            curr_sum = 0\n",
    "            for i in range(p, left - 1, -1):\n",
    "                curr_sum += nums[i]\n",
    "                left_subsum = max(left_subsum, curr_sum)\n",
    "\n",
    "            right_subsum = float('-inf')\n",
    "            curr_sum = 0\n",
    "            for i in range(p + 1, right + 1):\n",
    "                curr_sum += nums[i]\n",
    "                right_subsum = max(right_subsum, curr_sum)\n",
    "\n",
    "            return left_subsum + right_subsum   \n",
    "    \n",
    "    def helper(self, nums, left, right): \n",
    "        if left == right:\n",
    "            return nums[left]\n",
    "        \n",
    "        p = (left + right) // 2\n",
    "            \n",
    "        left_sum = self.helper(nums, left, p)\n",
    "        right_sum = self.helper(nums, p + 1, right)\n",
    "        cross_sum = self.cross_sum(nums, left, right, p)\n",
    "        \n",
    "        return max(left_sum, right_sum, cross_sum)\n",
    "     \n",
    "    def maxSubArray(self, nums):\n",
    "        return self.helper(nums, 0, len(nums) - 1)\n",
    "   "
   ]
  },
  {
   "cell_type": "markdown",
   "metadata": {},
   "source": [
    "## Arranging Coins\n",
    "\n",
    "You have a total of n coins that you want to form in a staircase shape, where every k-th row must have exactly k coins.\n",
    "\n",
    "Given n, find the total number of full staircase rows that can be formed.\n",
    "\n",
    "n is a non-negative integer and fits within the range of a 32-bit signed integer.\n"
   ]
  },
  {
   "cell_type": "code",
   "execution_count": 1,
   "metadata": {},
   "outputs": [],
   "source": [
    "class Solution(object):\n",
    "    def arrangeCoins(self, n):\n",
    "        \"\"\"\n",
    "        :type n: int\n",
    "        :rtype: int\n",
    "        \"\"\"\n",
    "        level = 0\n",
    "        \n",
    "        while n>0:\n",
    "            n -=level+1\n",
    "            if n >=0:\n",
    "                level +=1\n",
    "        return level\n",
    "        "
   ]
  },
  {
   "cell_type": "markdown",
   "metadata": {},
   "source": [
    "## Binary Tree Level Order Traversal II"
   ]
  },
  {
   "cell_type": "markdown",
   "metadata": {},
   "source": [
    "Given a binary tree, return the bottom-up level order traversal of its nodes' values. (ie, from left to right, level by level from leaf to root)."
   ]
  },
  {
   "cell_type": "code",
   "execution_count": 1,
   "metadata": {},
   "outputs": [],
   "source": [
    "# Definition for a binary tree node.\n",
    "# class TreeNode(object):\n",
    "#     def __init__(self, val=0, left=None, right=None):\n",
    "#         self.val = val\n",
    "#         self.left = left\n",
    "#         self.right = right\n",
    "class Solution(object):\n",
    "    def levelOrderBottom(self, root):\n",
    "        \"\"\"\n",
    "        :type root: TreeNode\n",
    "        :rtype: List[List[int]]\n",
    "        \"\"\"\n",
    "        levels = []\n",
    "        \n",
    "        if root is None:\n",
    "            return levels\n",
    "        \n",
    "        def helperfun(root,level):\n",
    "            if len(levels)==level:\n",
    "                levels.append([])\n",
    "                \n",
    "            levels[level].append(root.val)\n",
    "                \n",
    "            if root.left:\n",
    "                helperfun(root.left, level+1)\n",
    "            if root.right:\n",
    "                helperfun(root.right, level+1)\n",
    "                    \n",
    "        helperfun(root, 0)\n",
    "        \n",
    "        return levels[::-1]\n",
    "                \n",
    "\n"
   ]
  },
  {
   "cell_type": "markdown",
   "metadata": {},
   "source": [
    "## Prison Cells After N Days"
   ]
  },
  {
   "cell_type": "markdown",
   "metadata": {},
   "source": [
    "There are 8 prison cells in a row, and each cell is either occupied or vacant.\n",
    "\n",
    "Each day, whether the cell is occupied or vacant changes according to the following rules:\n",
    "\n",
    "If a cell has two adjacent neighbors that are both occupied or both vacant, then the cell becomes occupied.\n",
    "Otherwise, it becomes vacant.\n",
    "(Note that because the prison is a row, the first and the last cells in the row can't have two adjacent neighbors.)\n",
    "\n",
    "We describe the current state of the prison in the following way: cells[i] == 1 if the i-th cell is occupied, else cells[i] == 0.\n",
    "\n",
    "Given the initial state of the prison, return the state of the prison after N days (and N such changes described above.)"
   ]
  },
  {
   "cell_type": "markdown",
   "metadata": {},
   "source": [
    "### Example 1\n",
    "\n",
    "Input: cells = [0,1,0,1,1,0,0,1], N = 7\n",
    "Output: [0,0,1,1,0,0,0,0]\n",
    "Explanation: \n",
    "The following table summarizes the state of the prison on each day:\n",
    "\n",
    "Day 0: [0, 1, 0, 1, 1, 0, 0, 1]\n",
    "\n",
    "Day 1: [0, 1, 1, 0, 0, 0, 0, 0]\n",
    "\n",
    "Day 2: [0, 0, 0, 0, 1, 1, 1, 0]\n",
    "\n",
    "Day 3: [0, 1, 1, 0, 0, 1, 0, 0]\n",
    "\n",
    "Day 4: [0, 0, 0, 0, 0, 1, 0, 0]\n",
    "\n",
    "Day 5: [0, 1, 1, 1, 0, 1, 0, 0]\n",
    "\n",
    "Day 6: [0, 0, 1, 0, 1, 1, 0, 0]\n",
    "\n",
    "Day 7: [0, 0, 1, 1, 0, 0, 0, 0]"
   ]
  },
  {
   "cell_type": "markdown",
   "metadata": {},
   "source": [
    "Note:\n",
    "\n",
    "cells.length == 8\n",
    "\n",
    "cells[i] is in {0, 1}\n",
    "\n",
    "1 <= N <= 10^9"
   ]
  },
  {
   "cell_type": "code",
   "execution_count": 1,
   "metadata": {},
   "outputs": [],
   "source": [
    "class Solution(object):\n",
    "    def prisonAfterNDays(self, cells, N):\n",
    "        \"\"\"\n",
    "        :type cells: List[int]\n",
    "        :type N: int\n",
    "        :rtype: List[int]\n",
    "        \"\"\"\n",
    "        seen = dict()\n",
    "        fast_forward = False\n",
    "           \n",
    "        while N>0:\n",
    "            if not fast_forward:\n",
    "                state_key = tuple(cells)\n",
    "                if state_key in seen: \n",
    "                    N %=seen[state_key]-N\n",
    "                    fast_forward = True\n",
    "                else:\n",
    "                    seen[state_key] = N\n",
    "            if N>0:\n",
    "                N-=1\n",
    "                next_day_cells = self.nextDay(cells)\n",
    "                cells = next_day_cells\n",
    "        return cells\n",
    "    \n",
    "    def nextDay(self, cells):\n",
    "        celltemp = []\n",
    "        celltemp.append(0)\n",
    "        for i in range(1,len(cells)-1):\n",
    "            celltemp.append(int(cells[i-1]==cells[i+1]))\n",
    "        celltemp.append(0)\n",
    "        return celltemp"
   ]
  },
  {
   "cell_type": "markdown",
   "metadata": {},
   "source": [
    "## Ugly Number II\n",
    "\n",
    "Write a program to find the n-th ugly number.\n",
    "\n",
    "Ugly numbers are positive numbers whose prime factors only include 2, 3, 5. \n",
    "\n",
    "Example:\n",
    "\n",
    "Input: n = 10\n",
    "\n",
    "Output: 12\n",
    "\n",
    "Explanation: 1, 2, 3, 4, 5, 6, 8, 9, 10, 12 is the sequence of the first 10 ugly numbers.\n",
    "Note:  \n",
    "\n",
    "1 is typically treated as an ugly number.\n",
    "\n",
    "n does not exceed 1690."
   ]
  },
  {
   "cell_type": "code",
   "execution_count": 1,
   "metadata": {},
   "outputs": [],
   "source": [
    "class Solution(object):\n",
    "    def nthUglyNumber(self, n):\n",
    "        \"\"\"\n",
    "        :type n: int\n",
    "        :rtype: int\n",
    "        \"\"\"\n",
    "        p2, p3, p5 = 0,0,0\n",
    "        L = [1]\n",
    "        \n",
    "        if n==1:\n",
    "            return 1\n",
    "        \n",
    "        while n>0:\n",
    "            L.append(min(L[p2]*2, L[p3]*3, L[p5]*5))\n",
    "            if L[-1] == L[p2]*2:\n",
    "                p2 +=1\n",
    "            if L[-1] == L[p3]*3:\n",
    "                p3 +=1\n",
    "            if L[-1] == L[p5]*5:\n",
    "                p5 +=1\n",
    "            n -=1\n",
    "        return L[-2]\n",
    "            "
   ]
  },
  {
   "cell_type": "code",
   "execution_count": null,
   "metadata": {},
   "outputs": [],
   "source": []
  }
 ],
 "metadata": {
  "kernelspec": {
   "display_name": "Python 3",
   "language": "python",
   "name": "python3"
  },
  "language_info": {
   "codemirror_mode": {
    "name": "ipython",
    "version": 3
   },
   "file_extension": ".py",
   "mimetype": "text/x-python",
   "name": "python",
   "nbconvert_exporter": "python",
   "pygments_lexer": "ipython3",
   "version": "3.7.4"
  }
 },
 "nbformat": 4,
 "nbformat_minor": 2
}
