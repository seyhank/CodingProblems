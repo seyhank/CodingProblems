{
 "cells": [
  {
   "cell_type": "markdown",
   "metadata": {},
   "source": [
    "# Leetcode Challenge"
   ]
  },
  {
   "cell_type": "markdown",
   "metadata": {},
   "source": [
    "## Single Number"
   ]
  },
  {
   "cell_type": "markdown",
   "metadata": {},
   "source": [
    "Given a non-empty array of integers, every element appears twice except for one. Find that single one.\n"
   ]
  },
  {
   "cell_type": "code",
   "execution_count": 11,
   "metadata": {},
   "outputs": [],
   "source": [
    "class Solution(object):\n",
    "    def singleNumber(self, nums):\n",
    "        \"\"\"\n",
    "        :type nums: List[int]\n",
    "        :rtype: int\n",
    "        \"\"\"\n",
    "        rem = 0\n",
    "        \n",
    "        for i in range(0,len(nums)):\n",
    "            rem ^= nums[i]\n",
    "    \n",
    "        \n",
    "        return rem"
   ]
  },
  {
   "cell_type": "markdown",
   "metadata": {},
   "source": [
    "## Happy Number\n",
    "\n",
    "Write an algorithm to determine if a number n is \"happy\".\n"
   ]
  },
  {
   "cell_type": "code",
   "execution_count": 1,
   "metadata": {},
   "outputs": [],
   "source": [
    "class Solution(object):\n",
    "    \n",
    "    def convertToDigits(self, x):\n",
    "        digits_list =[]\n",
    "        while(x!=0):\n",
    "            digits_list.append(x%10)\n",
    "            x //=10\n",
    "        return digits_list\n",
    "    \n",
    "    def isHappy(self, n):\n",
    "        \"\"\"\n",
    "        :type n: int\n",
    "        :rtype: bool\n",
    "        \"\"\"\n",
    "        seen = set()\n",
    "        while(n!=1 and n not in seen):\n",
    "            seen.add(n)\n",
    "            squaresum=0\n",
    "            digitsList = self.convertToDigits(n)\n",
    "            for i in range(len(digitsList)):\n",
    "                squaresum +=digitsList[i]**2\n",
    "            n=squaresum\n",
    "       \n",
    "        return n==1"
   ]
  },
  {
   "cell_type": "markdown",
   "metadata": {},
   "source": [
    "## Maximum Subarray"
   ]
  },
  {
   "cell_type": "markdown",
   "metadata": {},
   "source": [
    "Given an integer array nums, find the contiguous subarray (containing at least one number) which has the largest sum and return its sum."
   ]
  },
  {
   "cell_type": "code",
   "execution_count": 2,
   "metadata": {},
   "outputs": [],
   "source": [
    "class Solution:\n",
    "    def cross_sum(self, nums, left, right, p): \n",
    "            if left == right:\n",
    "                return nums[left]\n",
    "\n",
    "            left_subsum = float('-inf')\n",
    "            curr_sum = 0\n",
    "            for i in range(p, left - 1, -1):\n",
    "                curr_sum += nums[i]\n",
    "                left_subsum = max(left_subsum, curr_sum)\n",
    "\n",
    "            right_subsum = float('-inf')\n",
    "            curr_sum = 0\n",
    "            for i in range(p + 1, right + 1):\n",
    "                curr_sum += nums[i]\n",
    "                right_subsum = max(right_subsum, curr_sum)\n",
    "\n",
    "            return left_subsum + right_subsum   \n",
    "    \n",
    "    def helper(self, nums, left, right): \n",
    "        if left == right:\n",
    "            return nums[left]\n",
    "        \n",
    "        p = (left + right) // 2\n",
    "            \n",
    "        left_sum = self.helper(nums, left, p)\n",
    "        right_sum = self.helper(nums, p + 1, right)\n",
    "        cross_sum = self.cross_sum(nums, left, right, p)\n",
    "        \n",
    "        return max(left_sum, right_sum, cross_sum)\n",
    "     \n",
    "    def maxSubArray(self, nums):\n",
    "        return self.helper(nums, 0, len(nums) - 1)\n",
    "   "
   ]
  },
  {
   "cell_type": "markdown",
   "metadata": {},
   "source": [
    "## Arranging Coins\n",
    "\n",
    "You have a total of n coins that you want to form in a staircase shape, where every k-th row must have exactly k coins.\n",
    "\n",
    "Given n, find the total number of full staircase rows that can be formed.\n",
    "\n",
    "n is a non-negative integer and fits within the range of a 32-bit signed integer.\n"
   ]
  },
  {
   "cell_type": "code",
   "execution_count": 1,
   "metadata": {},
   "outputs": [],
   "source": [
    "class Solution(object):\n",
    "    def arrangeCoins(self, n):\n",
    "        \"\"\"\n",
    "        :type n: int\n",
    "        :rtype: int\n",
    "        \"\"\"\n",
    "        level = 0\n",
    "        \n",
    "        while n>0:\n",
    "            n -=level+1\n",
    "            if n >=0:\n",
    "                level +=1\n",
    "        return level\n",
    "        "
   ]
  },
  {
   "cell_type": "code",
   "execution_count": null,
   "metadata": {},
   "outputs": [],
   "source": []
  }
 ],
 "metadata": {
  "kernelspec": {
   "display_name": "Python 3",
   "language": "python",
   "name": "python3"
  },
  "language_info": {
   "codemirror_mode": {
    "name": "ipython",
    "version": 3
   },
   "file_extension": ".py",
   "mimetype": "text/x-python",
   "name": "python",
   "nbconvert_exporter": "python",
   "pygments_lexer": "ipython3",
   "version": "3.7.4"
  }
 },
 "nbformat": 4,
 "nbformat_minor": 2
}
