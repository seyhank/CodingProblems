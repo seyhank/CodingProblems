{
 "cells": [
  {
   "cell_type": "markdown",
   "metadata": {},
   "source": [
    "# Leetcode Challenge"
   ]
  },
  {
   "cell_type": "markdown",
   "metadata": {},
   "source": [
    "## Single Number"
   ]
  },
  {
   "cell_type": "markdown",
   "metadata": {},
   "source": [
    "Given a non-empty array of integers, every element appears twice except for one. Find that single one.\n"
   ]
  },
  {
   "cell_type": "code",
   "execution_count": 11,
   "metadata": {},
   "outputs": [],
   "source": [
    "class Solution(object):\n",
    "    def singleNumber(self, nums):\n",
    "        \"\"\"\n",
    "        :type nums: List[int]\n",
    "        :rtype: int\n",
    "        \"\"\"\n",
    "        rem = 0\n",
    "        \n",
    "        for i in range(0,len(nums)):\n",
    "            rem ^= nums[i]\n",
    "    \n",
    "        \n",
    "        return rem"
   ]
  },
  {
   "cell_type": "markdown",
   "metadata": {},
   "source": [
    "## Happy Number\n",
    "\n",
    "Write an algorithm to determine if a number n is \"happy\".\n"
   ]
  },
  {
   "cell_type": "code",
   "execution_count": 1,
   "metadata": {},
   "outputs": [],
   "source": [
    "class Solution(object):\n",
    "    \n",
    "    def convertToDigits(self, x):\n",
    "        digits_list =[]\n",
    "        while(x!=0):\n",
    "            digits_list.append(x%10)\n",
    "            x //=10\n",
    "        return digits_list\n",
    "    \n",
    "    def isHappy(self, n):\n",
    "        \"\"\"\n",
    "        :type n: int\n",
    "        :rtype: bool\n",
    "        \"\"\"\n",
    "        seen = set()\n",
    "        while(n!=1 and n not in seen):\n",
    "            seen.add(n)\n",
    "            squaresum=0\n",
    "            digitsList = self.convertToDigits(n)\n",
    "            for i in range(len(digitsList)):\n",
    "                squaresum +=digitsList[i]**2\n",
    "            n=squaresum\n",
    "       \n",
    "        return n==1"
   ]
  },
  {
   "cell_type": "markdown",
   "metadata": {},
   "source": [
    "## Maximum Subarray"
   ]
  },
  {
   "cell_type": "markdown",
   "metadata": {},
   "source": [
    "Given an integer array nums, find the contiguous subarray (containing at least one number) which has the largest sum and return its sum."
   ]
  },
  {
   "cell_type": "code",
   "execution_count": 2,
   "metadata": {},
   "outputs": [],
   "source": [
    "class Solution:\n",
    "    def cross_sum(self, nums, left, right, p): \n",
    "            if left == right:\n",
    "                return nums[left]\n",
    "\n",
    "            left_subsum = float('-inf')\n",
    "            curr_sum = 0\n",
    "            for i in range(p, left - 1, -1):\n",
    "                curr_sum += nums[i]\n",
    "                left_subsum = max(left_subsum, curr_sum)\n",
    "\n",
    "            right_subsum = float('-inf')\n",
    "            curr_sum = 0\n",
    "            for i in range(p + 1, right + 1):\n",
    "                curr_sum += nums[i]\n",
    "                right_subsum = max(right_subsum, curr_sum)\n",
    "\n",
    "            return left_subsum + right_subsum   \n",
    "    \n",
    "    def helper(self, nums, left, right): \n",
    "        if left == right:\n",
    "            return nums[left]\n",
    "        \n",
    "        p = (left + right) // 2\n",
    "            \n",
    "        left_sum = self.helper(nums, left, p)\n",
    "        right_sum = self.helper(nums, p + 1, right)\n",
    "        cross_sum = self.cross_sum(nums, left, right, p)\n",
    "        \n",
    "        return max(left_sum, right_sum, cross_sum)\n",
    "     \n",
    "    def maxSubArray(self, nums):\n",
    "        return self.helper(nums, 0, len(nums) - 1)\n",
    "   "
   ]
  },
  {
   "cell_type": "markdown",
   "metadata": {},
   "source": [
    "## Arranging Coins\n",
    "\n",
    "You have a total of n coins that you want to form in a staircase shape, where every k-th row must have exactly k coins.\n",
    "\n",
    "Given n, find the total number of full staircase rows that can be formed.\n",
    "\n",
    "n is a non-negative integer and fits within the range of a 32-bit signed integer.\n"
   ]
  },
  {
   "cell_type": "code",
   "execution_count": 1,
   "metadata": {},
   "outputs": [],
   "source": [
    "class Solution(object):\n",
    "    def arrangeCoins(self, n):\n",
    "        \"\"\"\n",
    "        :type n: int\n",
    "        :rtype: int\n",
    "        \"\"\"\n",
    "        level = 0\n",
    "        \n",
    "        while n>0:\n",
    "            n -=level+1\n",
    "            if n >=0:\n",
    "                level +=1\n",
    "        return level\n",
    "        "
   ]
  },
  {
   "cell_type": "markdown",
   "metadata": {},
   "source": [
    "## Binary Tree Level Order Traversal II"
   ]
  },
  {
   "cell_type": "markdown",
   "metadata": {},
   "source": [
    "Given a binary tree, return the bottom-up level order traversal of its nodes' values. (ie, from left to right, level by level from leaf to root)."
   ]
  },
  {
   "cell_type": "code",
   "execution_count": 1,
   "metadata": {},
   "outputs": [],
   "source": [
    "# Definition for a binary tree node.\n",
    "# class TreeNode(object):\n",
    "#     def __init__(self, val=0, left=None, right=None):\n",
    "#         self.val = val\n",
    "#         self.left = left\n",
    "#         self.right = right\n",
    "class Solution(object):\n",
    "    def levelOrderBottom(self, root):\n",
    "        \"\"\"\n",
    "        :type root: TreeNode\n",
    "        :rtype: List[List[int]]\n",
    "        \"\"\"\n",
    "        levels = []\n",
    "        \n",
    "        if root is None:\n",
    "            return levels\n",
    "        \n",
    "        def helperfun(root,level):\n",
    "            if len(levels)==level:\n",
    "                levels.append([])\n",
    "                \n",
    "            levels[level].append(root.val)\n",
    "                \n",
    "            if root.left:\n",
    "                helperfun(root.left, level+1)\n",
    "            if root.right:\n",
    "                helperfun(root.right, level+1)\n",
    "                    \n",
    "        helperfun(root, 0)\n",
    "        \n",
    "        return levels[::-1]\n",
    "                \n",
    "\n"
   ]
  },
  {
   "cell_type": "markdown",
   "metadata": {},
   "source": [
    "## Prison Cells After N Days"
   ]
  },
  {
   "cell_type": "markdown",
   "metadata": {},
   "source": [
    "There are 8 prison cells in a row, and each cell is either occupied or vacant.\n",
    "\n",
    "Each day, whether the cell is occupied or vacant changes according to the following rules:\n",
    "\n",
    "If a cell has two adjacent neighbors that are both occupied or both vacant, then the cell becomes occupied.\n",
    "Otherwise, it becomes vacant.\n",
    "(Note that because the prison is a row, the first and the last cells in the row can't have two adjacent neighbors.)\n",
    "\n",
    "We describe the current state of the prison in the following way: cells[i] == 1 if the i-th cell is occupied, else cells[i] == 0.\n",
    "\n",
    "Given the initial state of the prison, return the state of the prison after N days (and N such changes described above.)"
   ]
  },
  {
   "cell_type": "markdown",
   "metadata": {},
   "source": [
    "### Example 1\n",
    "\n",
    "Input: cells = [0,1,0,1,1,0,0,1], N = 7\n",
    "Output: [0,0,1,1,0,0,0,0]\n",
    "Explanation: \n",
    "The following table summarizes the state of the prison on each day:\n",
    "\n",
    "Day 0: [0, 1, 0, 1, 1, 0, 0, 1]\n",
    "\n",
    "Day 1: [0, 1, 1, 0, 0, 0, 0, 0]\n",
    "\n",
    "Day 2: [0, 0, 0, 0, 1, 1, 1, 0]\n",
    "\n",
    "Day 3: [0, 1, 1, 0, 0, 1, 0, 0]\n",
    "\n",
    "Day 4: [0, 0, 0, 0, 0, 1, 0, 0]\n",
    "\n",
    "Day 5: [0, 1, 1, 1, 0, 1, 0, 0]\n",
    "\n",
    "Day 6: [0, 0, 1, 0, 1, 1, 0, 0]\n",
    "\n",
    "Day 7: [0, 0, 1, 1, 0, 0, 0, 0]"
   ]
  },
  {
   "cell_type": "markdown",
   "metadata": {},
   "source": [
    "Note:\n",
    "\n",
    "cells.length == 8\n",
    "\n",
    "cells[i] is in {0, 1}\n",
    "\n",
    "1 <= N <= 10^9"
   ]
  },
  {
   "cell_type": "code",
   "execution_count": 1,
   "metadata": {},
   "outputs": [],
   "source": [
    "class Solution(object):\n",
    "    def prisonAfterNDays(self, cells, N):\n",
    "        \"\"\"\n",
    "        :type cells: List[int]\n",
    "        :type N: int\n",
    "        :rtype: List[int]\n",
    "        \"\"\"\n",
    "        seen = dict()\n",
    "        fast_forward = False\n",
    "           \n",
    "        while N>0:\n",
    "            if not fast_forward:\n",
    "                state_key = tuple(cells)\n",
    "                if state_key in seen: \n",
    "                    N %=seen[state_key]-N\n",
    "                    fast_forward = True\n",
    "                else:\n",
    "                    seen[state_key] = N\n",
    "            if N>0:\n",
    "                N-=1\n",
    "                next_day_cells = self.nextDay(cells)\n",
    "                cells = next_day_cells\n",
    "        return cells\n",
    "    \n",
    "    def nextDay(self, cells):\n",
    "        celltemp = []\n",
    "        celltemp.append(0)\n",
    "        for i in range(1,len(cells)-1):\n",
    "            celltemp.append(int(cells[i-1]==cells[i+1]))\n",
    "        celltemp.append(0)\n",
    "        return celltemp"
   ]
  },
  {
   "cell_type": "markdown",
   "metadata": {},
   "source": [
    "## Ugly Number II\n",
    "\n",
    "Write a program to find the n-th ugly number.\n",
    "\n",
    "Ugly numbers are positive numbers whose prime factors only include 2, 3, 5. \n",
    "\n",
    "Example:\n",
    "\n",
    "Input: n = 10\n",
    "\n",
    "Output: 12\n",
    "\n",
    "Explanation: 1, 2, 3, 4, 5, 6, 8, 9, 10, 12 is the sequence of the first 10 ugly numbers.\n",
    "Note:  \n",
    "\n",
    "1 is typically treated as an ugly number.\n",
    "\n",
    "n does not exceed 1690."
   ]
  },
  {
   "cell_type": "code",
   "execution_count": 1,
   "metadata": {},
   "outputs": [],
   "source": [
    "class Solution(object):\n",
    "    def nthUglyNumber(self, n):\n",
    "        \"\"\"\n",
    "        :type n: int\n",
    "        :rtype: int\n",
    "        \"\"\"\n",
    "        p2, p3, p5 = 0,0,0\n",
    "        L = [1]\n",
    "        \n",
    "        if n==1:\n",
    "            return 1\n",
    "        \n",
    "        while n>0:\n",
    "            L.append(min(L[p2]*2, L[p3]*3, L[p5]*5))\n",
    "            if L[-1] == L[p2]*2:\n",
    "                p2 +=1\n",
    "            if L[-1] == L[p3]*3:\n",
    "                p3 +=1\n",
    "            if L[-1] == L[p5]*5:\n",
    "                p5 +=1\n",
    "            n -=1\n",
    "        return L[-2]\n",
    "            "
   ]
  },
  {
   "cell_type": "markdown",
   "metadata": {},
   "source": [
    "## Hamming Distance\n",
    "\n",
    "The Hamming distance between two integers is the number of positions at which the corresponding bits are different.\n",
    "\n",
    "Given two integers x and y, calculate the Hamming distance.\n",
    "\n",
    "Note:\n",
    "    \n",
    "0 ≤ x, y < 231.\n",
    "\n",
    "Example:\n",
    "\n",
    "Input: x = 1, y = 4\n",
    "\n",
    "Output: 2\n",
    "\n",
    "Explanation:\n",
    "    \n",
    "1   (0 0 0 1)\n",
    "\n",
    "4   (0 1 0 0)\n",
    "\n",
    "    ↑  ↑\n",
    "\n",
    "The above arrows point to positions where the corresponding bits are different."
   ]
  },
  {
   "cell_type": "code",
   "execution_count": 2,
   "metadata": {},
   "outputs": [],
   "source": [
    "class Solution(object):\n",
    "    def hammingDistance(self, x, y):\n",
    "        \"\"\"\n",
    "        :type x: int\n",
    "        :type y: int\n",
    "        :rtype: int\n",
    "        \"\"\"\n",
    "        z = x^y\n",
    "        \n",
    "        hd = 0\n",
    "        \n",
    "        while z > 0:\n",
    "            hd += z & 1\n",
    "            z = z >> 1\n",
    "        \n",
    "        return hd"
   ]
  },
  {
   "cell_type": "markdown",
   "metadata": {},
   "source": [
    "##  Plus One"
   ]
  },
  {
   "cell_type": "markdown",
   "metadata": {},
   "source": [
    "Given a non-empty array of digits representing a non-negative integer, plus one to the integer.\n",
    "\n",
    "The digits are stored such that the most significant digit is at the head of the list, and each element in the array contain a single digit.\n",
    "\n",
    "You may assume the integer does not contain any leading zero, except the number 0 itself.\n",
    "\n",
    "Example 1:\n",
    "\n",
    "Input: [1,2,3]\n",
    "    \n",
    "Output: [1,2,4]\n",
    "    \n",
    "Explanation: The array represents the integer 123.\n",
    "    \n",
    "Example 2:\n",
    "\n",
    "Input: [4,3,2,1]\n",
    "    \n",
    "Output: [4,3,2,2]\n",
    "    \n",
    "Explanation: The array represents the integer 4321."
   ]
  },
  {
   "cell_type": "code",
   "execution_count": 1,
   "metadata": {},
   "outputs": [],
   "source": [
    "class Solution(object):\n",
    "    def plusOne(self, digits):\n",
    "        \"\"\"\n",
    "        :type digits: List[int]\n",
    "        :rtype: List[int]\n",
    "        \"\"\"\n",
    "        carry = 0\n",
    "        N = len(digits)\n",
    "        rep = []\n",
    "        \n",
    "        for i in range(N-1, -1, -1):\n",
    "            if i ==N-1:\n",
    "                added = digits[i]+carry+1\n",
    "            else:\n",
    "                added = digits[i]+carry\n",
    "            if added >9:\n",
    "                carry = 1\n",
    "            else:\n",
    "                carry = 0\n",
    "            rep.append(added%10)\n",
    "            \n",
    "        if carry >0:\n",
    "            rep.append(carry)\n",
    "        \n",
    "        return rep[::-1]\n",
    "        "
   ]
  },
  {
   "cell_type": "markdown",
   "metadata": {},
   "source": [
    "## Island Perimeter"
   ]
  },
  {
   "cell_type": "markdown",
   "metadata": {},
   "source": [
    "You are given a map in form of a two-dimensional integer grid where 1 represents land and 0 represents water.\n",
    "\n",
    "Grid cells are connected horizontally/vertically (not diagonally). The grid is completely surrounded by water, and there is exactly one island (i.e., one or more connected land cells).\n",
    "\n",
    "The island doesn't have \"lakes\" (water inside that isn't connected to the water around the island). One cell is a square with side length 1. The grid is rectangular, width and height don't exceed 100. Determine the perimeter of the island.\n",
    "\n",
    " \n",
    "\n",
    "Example:\n",
    "\n",
    "Input:\n",
    "    \n",
    "[[0,1,0,0],\n",
    " \n",
    " [1,1,1,0],\n",
    " \n",
    " [0,1,0,0],\n",
    " \n",
    " [1,1,0,0]]\n",
    "\n",
    "Output: 16"
   ]
  },
  {
   "cell_type": "code",
   "execution_count": 1,
   "metadata": {},
   "outputs": [],
   "source": [
    "class Solution(object):\n",
    "    def islandPerimeter(self, grid):\n",
    "        \"\"\"\n",
    "        :type grid: List[List[int]]\n",
    "        :rtype: int\n",
    "        \"\"\"\n",
    "        \n",
    "        rows = len(grid)\n",
    "        cols = len(grid[0])\n",
    "        per = 0\n",
    "        \n",
    "        for i in range(rows):\n",
    "            for j in range(cols):\n",
    "                if grid[i][j]==1:\n",
    "                    if i==0:\n",
    "                        up = 0\n",
    "                    else:\n",
    "                        up = grid[i-1][j]\n",
    "                    if i==(rows-1):\n",
    "                        down = 0\n",
    "                    else:\n",
    "                        down = grid[i+1][j]\n",
    "                    if j ==0:\n",
    "                        left = 0\n",
    "                    else:\n",
    "                        left = grid[i][j-1]\n",
    "                    if j ==(cols-1):\n",
    "                        right = 0\n",
    "                    else:\n",
    "                        right = grid[i][j+1]\n",
    "                                \n",
    "                    tot = up+down+left+right\n",
    "                    per +=(4-tot)\n",
    "        \n",
    "        return per\n",
    "        \n",
    "  "
   ]
  },
  {
   "cell_type": "markdown",
   "metadata": {},
   "source": [
    "## 3Sum"
   ]
  },
  {
   "cell_type": "markdown",
   "metadata": {},
   "source": [
    "Given an array nums of n integers, are there elements a, b, c in nums such that a + b + c = 0? Find all unique triplets in the array which gives the sum of zero.\n",
    "\n",
    "Note:\n",
    "\n",
    "The solution set must not contain duplicate triplets.\n",
    "\n",
    "Example:\n",
    "\n",
    "Given array nums = [-1, 0, 1, 2, -1, -4],\n",
    "\n",
    "A solution set is:\n",
    "\n",
    "[\n",
    "  [-1, 0, 1],\n",
    "    \n",
    "  [-1, -1, 2]\n",
    "]"
   ]
  },
  {
   "cell_type": "code",
   "execution_count": 1,
   "metadata": {},
   "outputs": [],
   "source": [
    "class Solution(object):\n",
    "    def threeSum(self, nums):\n",
    "        \"\"\"\n",
    "        :type nums: List[int]\n",
    "        :rtype: List[List[int]]\n",
    "        \"\"\"\n",
    "        \n",
    "        solset = []\n",
    "        \n",
    "        nums.sort()\n",
    "        \n",
    "        for i in range(len(nums)):\n",
    "            if nums[i]>0:\n",
    "                break\n",
    "            if i==0 or nums[i]!=nums[i-1]:\n",
    "                self.twoSum(nums, i, solset)                               \n",
    "        return solset\n",
    "                \n",
    "            \n",
    "        \n",
    "        \n",
    "    def twoSum(self, nums, i,solset):\n",
    "        \n",
    "        low = i+1\n",
    "        high = len(nums)-1\n",
    "        \n",
    "        while low < high:\n",
    "            total = nums[i]+nums[low]+nums[high]\n",
    "\n",
    "            if (total < 0) or (low > i + 1 and nums[low] == nums[low-1]):\n",
    "                low +=1\n",
    "            elif total >0 or (high < len(nums) - 1 and nums[high] == nums[high + 1]):\n",
    "                high -=1\n",
    "            else:\n",
    "                solset.append([nums[i], nums[low], nums[high]])\n",
    "                low +=1\n",
    "                high -=1\n",
    "\n"
   ]
  },
  {
   "cell_type": "markdown",
   "metadata": {},
   "source": [
    "## Maximum Width of Binary Tree"
   ]
  },
  {
   "cell_type": "markdown",
   "metadata": {},
   "source": [
    "Given a binary tree, write a function to get the maximum width of the given tree. The width of a tree is the maximum width among all levels. The binary tree has the same structure as a full binary tree, but some nodes are null.\n",
    "\n",
    "The width of one level is defined as the length between the end-nodes (the leftmost and right most non-null nodes in the level, where the null nodes between the end-nodes are also counted into the length calculation.\n",
    "\n",
    "Example 1:\n",
    "\n",
    "Input: \n",
    "\n",
    "           1\n",
    "         /   \\\n",
    "        3     2\n",
    "       / \\     \\  \n",
    "      5   3     9 \n",
    "\n",
    "Output: 4\n",
    "Explanation: The maximum width existing in the third level with the length 4 (5,3,null,9)."
   ]
  },
  {
   "cell_type": "markdown",
   "metadata": {},
   "source": [
    "Example 2:\n",
    "\n",
    "Input: \n",
    "\n",
    "          1\n",
    "         /  \n",
    "        3    \n",
    "       / \\       \n",
    "      5   3     \n",
    "\n",
    "Output: 2\n",
    "Explanation: The maximum width existing in the third level with the length 2 (5,3)."
   ]
  },
  {
   "cell_type": "code",
   "execution_count": 4,
   "metadata": {},
   "outputs": [],
   "source": [
    "# Definition for a binary tree node.\n",
    "# class TreeNode(object):\n",
    "#     def __init__(self, val=0, left=None, right=None):\n",
    "#         self.val = val\n",
    "#         self.left = left\n",
    "#         self.right = right\n",
    "class Solution(object):\n",
    "    def widthOfBinaryTree(self, root):\n",
    "        \"\"\"\n",
    "        :type root: TreeNode\n",
    "        :rtype: int\n",
    "        \"\"\"\n",
    "        if root==None:\n",
    "            return 0\n",
    "        \n",
    "        max_width = 0\n",
    "        \n",
    "        queue = deque()\n",
    "        queue.append((root,0))\n",
    "        \n",
    "        while queue:\n",
    "            level_length = len(queue)\n",
    "            _, level = queue[0]\n",
    "            for _ in range(level_length):\n",
    "                node, index = queue.popleft()\n",
    "                \n",
    "                if node.left:\n",
    "                    queue.append((node.left, 2*index))\n",
    "                if node.right:\n",
    "                    queue.append((node.right, 2*index+1))\n",
    "                    \n",
    "            max_width = max(max_width, index-level+1)\n",
    "            \n",
    "        return max_width\n",
    "\n"
   ]
  },
  {
   "cell_type": "markdown",
   "metadata": {},
   "source": [
    "## Subsets"
   ]
  },
  {
   "cell_type": "markdown",
   "metadata": {},
   "source": [
    "Given a set of distinct integers, nums, return all possible subsets (the power set).\n",
    "\n",
    "Note: The solution set must not contain duplicate subsets.\n",
    "\n",
    "Example:\n",
    "\n",
    "Input: nums = [1,2,3]\n",
    "Output:\n",
    "[ [3], [1], [2], [1,2,3], [1,3], [2,3], [1,2], []\n",
    "]"
   ]
  },
  {
   "cell_type": "code",
   "execution_count": 1,
   "metadata": {},
   "outputs": [],
   "source": [
    "class Solution(object):\n",
    "    def subsets(self, nums):\n",
    "        \"\"\"\n",
    "        :type nums: List[int]\n",
    "        :rtype: List[List[int]]\n",
    "        \"\"\"\n",
    "        subsets = []\n",
    "        existing = []\n",
    "        remaining = nums\n",
    "        self.addsubsets(existing, remaining, subsets)\n",
    "        return subsets\n",
    "            \n",
    "        \n",
    "        \n",
    "    def addsubsets(self, existing, remaining, subsets):\n",
    "        if len(remaining)==0:\n",
    "            subsets.append(existing[:])          \n",
    "        else:\n",
    "            adding = remaining.pop()\n",
    "            self.addsubsets(existing[:], remaining[:], subsets)     \n",
    "            existing.append(adding)\n",
    "            self.addsubsets(existing[:], remaining[:], subsets)\n",
    "            \n",
    "            \n",
    "            \n",
    "            "
   ]
  },
  {
   "cell_type": "markdown",
   "metadata": {},
   "source": [
    "## Reverse Bits"
   ]
  },
  {
   "cell_type": "markdown",
   "metadata": {},
   "source": [
    "Reverse bits of a given 32 bits unsigned integer.\n",
    "\n",
    " \n",
    "\n",
    "Example 1:\n",
    "\n",
    "Input: 00000010100101000001111010011100\n",
    "Output: 00111001011110000010100101000000\n",
    "Explanation: The input binary string 00000010100101000001111010011100 represents the unsigned integer 43261596, so return 964176192 which its binary representation is 00111001011110000010100101000000.\n",
    "Example 2:\n",
    "\n",
    "Input: 11111111111111111111111111111101\n",
    "Output: 10111111111111111111111111111111\n",
    "Explanation: The input binary string 11111111111111111111111111111101 represents the unsigned integer 4294967293, so return 3221225471 which its binary representation is 10111111111111111111111111111111."
   ]
  },
  {
   "cell_type": "code",
   "execution_count": 1,
   "metadata": {},
   "outputs": [],
   "source": [
    "class Solution:\n",
    "    # @param n, an integer\n",
    "    # @return an integer\n",
    "    def reverseBits(self, n):\n",
    "        \n",
    "        result = 0\n",
    "        numdigits = 32    \n",
    "          \n",
    "        while numdigits > 0:\n",
    "            result *=2\n",
    "            exp = n%2\n",
    "            n = n >> 1\n",
    "            result += exp\n",
    "            numdigits -=1\n",
    "        \n",
    "        return result\n",
    "            \n",
    "        \n",
    "        "
   ]
  },
  {
   "cell_type": "markdown",
   "metadata": {},
   "source": [
    "## Same Tree"
   ]
  },
  {
   "cell_type": "markdown",
   "metadata": {},
   "source": [
    "Given two binary trees, write a function to check if they are the same or not.\n",
    "\n",
    "Two binary trees are considered the same if they are structurally identical and the nodes have the same value.\n",
    "\n"
   ]
  },
  {
   "cell_type": "code",
   "execution_count": 2,
   "metadata": {},
   "outputs": [],
   "source": [
    "# Definition for a binary tree node.\n",
    "# class TreeNode(object):\n",
    "#     def __init__(self, val=0, left=None, right=None):\n",
    "#         self.val = val\n",
    "#         self.left = left\n",
    "#         self.right = right\n",
    "class Solution(object):\n",
    "    def isSameTree(self, p, q):\n",
    "        \"\"\"\n",
    "        :type p: TreeNode\n",
    "        :type q: TreeNode\n",
    "        :rtype: bool\n",
    "        \"\"\"\n",
    "        if p==None and q==None:\n",
    "            return True\n",
    "        elif p!=None and q==None:\n",
    "            return False\n",
    "        elif p==None and q!=None:\n",
    "            return False\n",
    "        else:\n",
    "            if p.val == q.val:\n",
    "                return self.isSameTree(p.left, q.left) and self.isSameTree(p.right, q.right)\n",
    "            else:\n",
    "                return False"
   ]
  },
  {
   "cell_type": "code",
   "execution_count": null,
   "metadata": {},
   "outputs": [],
   "source": []
  }
 ],
 "metadata": {
  "kernelspec": {
   "display_name": "Python 3",
   "language": "python",
   "name": "python3"
  },
  "language_info": {
   "codemirror_mode": {
    "name": "ipython",
    "version": 3
   },
   "file_extension": ".py",
   "mimetype": "text/x-python",
   "name": "python",
   "nbconvert_exporter": "python",
   "pygments_lexer": "ipython3",
   "version": "3.7.4"
  }
 },
 "nbformat": 4,
 "nbformat_minor": 2
}
